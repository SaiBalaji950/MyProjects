{
 "cells": [
  {
   "cell_type": "code",
   "execution_count": 1,
   "id": "901901b8-e827-485e-b656-ea635c7f4846",
   "metadata": {},
   "outputs": [],
   "source": [
    "import pandas as pd\n",
    "import numpy as np\n",
    "import re\n",
    "import nltk\n",
    "from nltk.corpus import stopwords\n",
    "from sklearn.feature_extraction.text import TfidfVectorizer\n",
    "from sklearn.model_selection import train_test_split\n",
    "from xgboost import XGBClassifier\n",
    "from sklearn.ensemble import RandomForestClassifier\n",
    "from sklearn.metrics import accuracy_score, classification_report"
   ]
  },
  {
   "cell_type": "code",
   "execution_count": 2,
   "id": "dcdf4fc6-b677-4562-aa3b-b9344c7706ca",
   "metadata": {},
   "outputs": [
    {
     "name": "stderr",
     "output_type": "stream",
     "text": [
      "[nltk_data] Downloading package stopwords to\n",
      "[nltk_data]     C:\\Users\\PythonTeam\\AppData\\Roaming\\nltk_data...\n",
      "[nltk_data]   Package stopwords is already up-to-date!\n"
     ]
    }
   ],
   "source": [
    "nltk.download('stopwords')\n",
    "stop_words = set(stopwords.words('english'))"
   ]
  },
  {
   "cell_type": "code",
   "execution_count": 3,
   "id": "95e92242-6134-44f6-bbe4-23c3acacb8bc",
   "metadata": {},
   "outputs": [],
   "source": [
    "data=pd.read_csv('tweets.csv')"
   ]
  },
  {
   "cell_type": "code",
   "execution_count": 4,
   "id": "79c254d8-b445-427e-b5aa-b8b679d04fb5",
   "metadata": {},
   "outputs": [],
   "source": [
    "data=data[['tweet','class']]"
   ]
  },
  {
   "cell_type": "code",
   "execution_count": 5,
   "id": "3f058332-de3f-4f2a-b7bb-0aa3b02f9e59",
   "metadata": {},
   "outputs": [],
   "source": [
    "def preprocess_text(text):\n",
    "    text = str(text).lower()  \n",
    "    text = re.sub(r\"http\\S+|www\\S+|https\\S+\", '', text, flags=re.MULTILINE)  \n",
    "    text = re.sub(r'\\@\\w+|\\#', '', text)  \n",
    "    text = re.sub(r'[^a-zA-Z\\s]', '', text)  \n",
    "    words = text.split()\n",
    "    words = [word for word in words if word not in stop_words]  \n",
    "    return \" \".join(words)"
   ]
  },
  {
   "cell_type": "code",
   "execution_count": 6,
   "id": "3507f024-b59a-47be-a2ee-c55b2c00e93d",
   "metadata": {},
   "outputs": [],
   "source": [
    "data['clean_text']=data['tweet'].apply(preprocess_text)"
   ]
  },
  {
   "cell_type": "code",
   "execution_count": 7,
   "id": "d1a056d0-b43e-4265-a24f-d8c2f21127cb",
   "metadata": {},
   "outputs": [],
   "source": [
    "x_train,x_test,y_train,y_test=train_test_split(data['clean_text'],data['class'],test_size=0.2,random_state=42)"
   ]
  },
  {
   "cell_type": "code",
   "execution_count": 8,
   "id": "5bcb958d-f300-4748-9c82-b28d08b58ea1",
   "metadata": {},
   "outputs": [],
   "source": [
    "vectorizer = TfidfVectorizer(max_features=5000)  \n",
    "X_train_tfidf = vectorizer.fit_transform(x_train)\n",
    "X_test_tfidf = vectorizer.transform(x_test)"
   ]
  },
  {
   "cell_type": "code",
   "execution_count": 9,
   "id": "bc71508f-7639-458b-a776-57b089c1f984",
   "metadata": {},
   "outputs": [
    {
     "data": {
      "text/plain": [
       "XGBClassifier(base_score=None, booster=None, callbacks=None,\n",
       "              colsample_bylevel=None, colsample_bynode=None,\n",
       "              colsample_bytree=None, device=None, early_stopping_rounds=None,\n",
       "              enable_categorical=False, eval_metric=None, feature_types=None,\n",
       "              gamma=None, grow_policy=None, importance_type=None,\n",
       "              interaction_constraints=None, learning_rate=None, max_bin=None,\n",
       "              max_cat_threshold=None, max_cat_to_onehot=None,\n",
       "              max_delta_step=None, max_depth=None, max_leaves=None,\n",
       "              min_child_weight=None, missing=nan, monotone_constraints=None,\n",
       "              multi_strategy=None, n_estimators=None, n_jobs=None,\n",
       "              num_parallel_tree=None, objective='multi:softprob', ...)"
      ]
     },
     "execution_count": 9,
     "metadata": {},
     "output_type": "execute_result"
    }
   ],
   "source": [
    "xgb_model = XGBClassifier()\n",
    "xgb_model.fit(X_train_tfidf, y_train)"
   ]
  },
  {
   "cell_type": "code",
   "execution_count": 10,
   "id": "b70df068-cc55-4080-880e-562ec1644db5",
   "metadata": {},
   "outputs": [],
   "source": [
    "y_pred = xgb_model.predict(X_test_tfidf)"
   ]
  },
  {
   "cell_type": "code",
   "execution_count": 11,
   "id": "c3d7165a-5cce-4dc4-a732-d4d9716f7201",
   "metadata": {},
   "outputs": [
    {
     "name": "stdout",
     "output_type": "stream",
     "text": [
      "Accuracy: 0.9016\n",
      "Classification Report:\n",
      "               precision    recall  f1-score   support\n",
      "\n",
      "           0       0.52      0.22      0.31       290\n",
      "           1       0.94      0.94      0.94      3832\n",
      "           2       0.79      0.95      0.86       835\n",
      "\n",
      "    accuracy                           0.90      4957\n",
      "   macro avg       0.75      0.70      0.70      4957\n",
      "weighted avg       0.89      0.90      0.89      4957\n",
      "\n"
     ]
    }
   ],
   "source": [
    "accuracy = accuracy_score(y_test, y_pred)\n",
    "print(f\"Accuracy: {accuracy:.4f}\")\n",
    "print(\"Classification Report:\\n\", classification_report(y_test, y_pred))"
   ]
  },
  {
   "cell_type": "code",
   "execution_count": 12,
   "id": "41327638-d087-4211-ab72-3bd1f788b841",
   "metadata": {},
   "outputs": [],
   "source": [
    "import pickle\n",
    "pickle.dump(xgb_model,open('xgbmodel.pickle','wb'))"
   ]
  },
  {
   "cell_type": "code",
   "execution_count": 13,
   "id": "07a294e8-6e4e-4ba8-b262-495b9b248877",
   "metadata": {},
   "outputs": [],
   "source": [
    "pickle.dump(vectorizer, open('TfidfVectorizer.pickle', 'wb'))"
   ]
  },
  {
   "cell_type": "code",
   "execution_count": null,
   "id": "070e2c54-1a22-426a-95fd-7503e8c4edb1",
   "metadata": {},
   "outputs": [],
   "source": []
  }
 ],
 "metadata": {
  "kernelspec": {
   "display_name": "base",
   "language": "python",
   "name": "python3"
  },
  "language_info": {
   "codemirror_mode": {
    "name": "ipython",
    "version": 3
   },
   "file_extension": ".py",
   "mimetype": "text/x-python",
   "name": "python",
   "nbconvert_exporter": "python",
   "pygments_lexer": "ipython3",
   "version": "3.9.12"
  }
 },
 "nbformat": 4,
 "nbformat_minor": 5
}
